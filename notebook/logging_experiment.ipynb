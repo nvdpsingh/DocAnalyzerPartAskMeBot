{
 "cells": [
  {
   "cell_type": "code",
   "execution_count": 1,
   "id": "22dfe58e",
   "metadata": {},
   "outputs": [],
   "source": [
    "import logging\n",
    "import os\n",
    "from datetime import datetime"
   ]
  },
  {
   "cell_type": "code",
   "execution_count": 2,
   "id": "ef05b4e3",
   "metadata": {},
   "outputs": [],
   "source": [
    "logs_dir = os.path.join(os.getcwd(),\"logs\")"
   ]
  },
  {
   "cell_type": "code",
   "execution_count": 3,
   "id": "c859e85b",
   "metadata": {},
   "outputs": [],
   "source": [
    "os.makedirs(logs_dir,exist_ok = True)"
   ]
  },
  {
   "cell_type": "code",
   "execution_count": 4,
   "id": "daf99583",
   "metadata": {},
   "outputs": [],
   "source": [
    "LOG_FILE = f'{datetime.now().strftime('%m_%d_%Y_%H_%M_%S')}.log'"
   ]
  },
  {
   "cell_type": "code",
   "execution_count": 5,
   "id": "b3976a9a",
   "metadata": {},
   "outputs": [
    {
     "data": {
      "text/plain": [
       "'09_10_2025_17_04_23.log'"
      ]
     },
     "execution_count": 5,
     "metadata": {},
     "output_type": "execute_result"
    }
   ],
   "source": [
    "LOG_FILE"
   ]
  },
  {
   "cell_type": "code",
   "execution_count": 6,
   "id": "4cca06a3",
   "metadata": {},
   "outputs": [],
   "source": [
    "LOG_FILE_PATH = os.path.join(logs_dir, LOG_FILE)"
   ]
  },
  {
   "cell_type": "code",
   "execution_count": 7,
   "id": "ae0f0a1f",
   "metadata": {},
   "outputs": [],
   "source": [
    "logging.basicConfig(\n",
    "    filename = LOG_FILE_PATH,\n",
    "    format = \"[%(asctime)s] %(levelname)s %(name)s (line: %(lineno)d) - %(message)s\",\n",
    "    level = logging.INFO,\n",
    ")\n"
   ]
  },
  {
   "cell_type": "code",
   "execution_count": 8,
   "id": "113b7bc0",
   "metadata": {},
   "outputs": [],
   "source": [
    "logger = logging.getLogger(\"DocumentPortal\")"
   ]
  },
  {
   "cell_type": "code",
   "execution_count": 9,
   "id": "79c8c3d6",
   "metadata": {},
   "outputs": [],
   "source": [
    "logger.info(\"This is an info message\")"
   ]
  },
  {
   "cell_type": "code",
   "execution_count": null,
   "id": "2c7a2199",
   "metadata": {},
   "outputs": [],
   "source": []
  }
 ],
 "metadata": {
  "kernelspec": {
   "display_name": "venv",
   "language": "python",
   "name": "python3"
  },
  "language_info": {
   "codemirror_mode": {
    "name": "ipython",
    "version": 3
   },
   "file_extension": ".py",
   "mimetype": "text/x-python",
   "name": "python",
   "nbconvert_exporter": "python",
   "pygments_lexer": "ipython3",
   "version": "3.13.5"
  }
 },
 "nbformat": 4,
 "nbformat_minor": 5
}
