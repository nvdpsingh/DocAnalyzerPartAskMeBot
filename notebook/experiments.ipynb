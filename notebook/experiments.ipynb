{
 "cells": [
  {
   "cell_type": "code",
   "execution_count": 19,
   "id": "8dd9f741",
   "metadata": {},
   "outputs": [
    {
     "name": "stderr",
     "output_type": "stream",
     "text": [
      "python-dotenv could not parse statement starting at line 3\n"
     ]
    }
   ],
   "source": [
    "from dotenv import load_dotenv\n",
    "import os\n",
    "from sentence_transformers import SentenceTransformer\n",
    "\n",
    "load_dotenv()\n",
    "os.environ[\"GROQ_API_KEY\"] = os.environ.get(\"GROQ_API_KEY\")"
   ]
  },
  {
   "cell_type": "code",
   "execution_count": 5,
   "id": "d21926f9",
   "metadata": {},
   "outputs": [],
   "source": [
    "from langchain_groq import ChatGroq"
   ]
  },
  {
   "cell_type": "code",
   "execution_count": 6,
   "id": "88ab4392",
   "metadata": {},
   "outputs": [],
   "source": [
    "llm = ChatGroq(model = \"qwen/qwen3-32b\")"
   ]
  },
  {
   "cell_type": "code",
   "execution_count": 8,
   "id": "0165924e",
   "metadata": {},
   "outputs": [
    {
     "data": {
      "text/plain": [
       "AIMessage(content='<think>\\nOkay, the user is asking \"Why r u running,\" which is a casual way of asking \"Why are you running?\" I need to explain the context of my operation. First, I should clarify that I\\'m an AI model that doesn\\'t literally run. Then, explain that I process information and generate responses when users ask questions. It\\'s important to keep the explanation simple and avoid technical jargon so it\\'s easy to understand. I should also add a friendly touch to keep the conversation engaging. Maybe mention that I\\'m here to help with any questions they have. Let me structure this clearly but conversationally.\\n</think>\\n\\nHey there! 😊 I don\\'t actually run around like a little robot (wouldn\\'t that be fun though?). I\\'m more of a thinking machine that helps with all sorts of questions and conversations! I\\'m here because you asked a question and I want to help you find answers. What would you like to know or talk about? I\\'m all ears (and circuits)! 🌟', additional_kwargs={}, response_metadata={'token_usage': {'completion_tokens': 207, 'prompt_tokens': 12, 'total_tokens': 219, 'completion_time': 0.585354797, 'prompt_time': 0.006291061, 'queue_time': 0.213082816, 'total_time': 0.591645858}, 'model_name': 'qwen/qwen3-32b', 'system_fingerprint': 'fp_5cf921caa2', 'service_tier': 'on_demand', 'finish_reason': 'stop', 'logprobs': None}, id='run--e41aa4cf-73c1-4181-8f8a-45efa9f44a06-0', usage_metadata={'input_tokens': 12, 'output_tokens': 207, 'total_tokens': 219})"
      ]
     },
     "execution_count": 8,
     "metadata": {},
     "output_type": "execute_result"
    }
   ],
   "source": [
    "llm.invoke(\"Why r u running\")"
   ]
  },
  {
   "cell_type": "code",
   "execution_count": 10,
   "id": "7a75719d",
   "metadata": {},
   "outputs": [],
   "source": [
    "from langchain_google_genai import GoogleGenerativeAIEmbeddings"
   ]
  },
  {
   "cell_type": "code",
   "execution_count": 25,
   "id": "10879cb0",
   "metadata": {},
   "outputs": [],
   "source": [
    "embeddings = SentenceTransformer(\"all-MiniLM-L6-v2\")"
   ]
  },
  {
   "cell_type": "markdown",
   "id": "e3a8258c",
   "metadata": {},
   "source": [
    "## 1. Data Ingestion"
   ]
  },
  {
   "cell_type": "code",
   "execution_count": 32,
   "id": "e566a7df",
   "metadata": {},
   "outputs": [],
   "source": [
    "from langchain.document_loaders import PyPDFLoader"
   ]
  },
  {
   "cell_type": "code",
   "execution_count": 33,
   "id": "92837ac5",
   "metadata": {},
   "outputs": [],
   "source": [
    "from langchain.text_splitter import RecursiveCharacterTextSplitter"
   ]
  },
  {
   "cell_type": "code",
   "execution_count": 34,
   "id": "2f335ce1",
   "metadata": {},
   "outputs": [],
   "source": [
    "import os"
   ]
  },
  {
   "cell_type": "code",
   "execution_count": 39,
   "id": "f1dabe4c",
   "metadata": {},
   "outputs": [],
   "source": [
    "file_path = os.path.join(os.getcwd(),\"data\",\"LMS_Agent.pdf\")"
   ]
  },
  {
   "cell_type": "code",
   "execution_count": 40,
   "id": "c15bb0dc",
   "metadata": {},
   "outputs": [],
   "source": [
    "loader = PyPDFLoader(file_path)"
   ]
  },
  {
   "cell_type": "code",
   "execution_count": 41,
   "id": "34f27c88",
   "metadata": {},
   "outputs": [],
   "source": [
    "documents = loader.load()"
   ]
  },
  {
   "cell_type": "code",
   "execution_count": 42,
   "id": "e3cce18b",
   "metadata": {},
   "outputs": [
    {
     "data": {
      "text/plain": [
       "[Document(metadata={'producer': 'Skia/PDF m141 Google Docs Renderer', 'creator': 'PyPDF', 'creationdate': '', 'title': 'make a google doc of this', 'source': '/Users/navdeepsingh/LLMOpsTut/DocAnalyzerforAskMeBot/notebook/data/LMS_Agent.pdf', 'total_pages': 2, 'page': 0, 'page_label': '1'}, page_content='OSCAR  Project  Proposal  \\nProject  Title  \\nLMS-AI  Assistant:  Revolutionizing  Student  and  Faculty  Support  in  Learning  \\nManagement\\n \\nSystems\\n \\nProject  Summary  \\nThis  project  aims  to  develop  an  intelligent  assistant  to  integrate  into  the  university\\'s  Learning  \\nManagement\\n \\nSystem\\n \\n(LMS).\\n \\nWe\\n \\nwill\\n \\ncreate\\n \\na\\n \\nsmart\\n \\nagent\\n \\nto\\n \\nimprove\\n \\nthe\\n \\neducational\\n \\nexperience\\n \\nfor\\n \\nboth\\n \\nstudents\\n \\nand\\n \\ninstructors.\\n \\nThis\\n \\ntool\\n \\nwill\\n \\nprovide\\n \\nreal-time\\n \\nsupport\\n \\nand\\n \\npersonalized\\n \\nlearning\\n \\nresources,\\n \\nstreamlining\\n \\ncommunication\\n \\nand\\n \\nautomating\\n \\nroutine\\n \\ntasks.\\n \\nBy\\n \\ndoing\\n \\nso,\\n \\nwe\\'ll\\n \\nfree\\n \\nup\\n \\ninstructors\\'\\n \\ntime\\n \\nfor\\n \\nmore\\n \\nmeaningful\\n \\ninteractions\\n \\nand\\n \\nprovide\\n \\nstudents\\n \\nwith\\n \\nimmediate,\\n \\n24/7\\n \\nassistance.\\n \\nProblem  Definition  \\nStudents  and  faculty  face  significant  challenges  within  current  learning  management  systems.  \\nStudents\\n \\noften\\n \\nhave\\n \\nrepetitive\\n \\nquestions\\n \\nabout\\n \\ncourse\\n \\nmaterial,\\n \\nleading\\n \\nto\\n \\ndelays\\n \\nand\\n \\nfrustration.\\n \\nInstructors,\\n \\nin\\n \\nturn,\\n \\nare\\n \\noverwhelmed\\n \\nby\\n \\na\\n \\nhigh\\n \\nvolume\\n \\nof\\n \\nsimilar\\n \\ninquiries.\\n \\nThey\\n \\nspend\\n \\nvaluable\\n \\ntime\\n \\nanswering\\n \\nthe\\n \\nsame\\n \\nquestions,\\n \\nsummarizing\\n \\ncontent,\\n \\nor\\n \\ncreating\\n \\nstudy\\n \\nguides,\\n \\ndetracting\\n \\nfrom\\n \\ntheir\\n \\nability\\n \\nto\\n \\nfocus\\n \\non\\n \\nteaching\\n \\nand\\n \\nmentorship.\\n \\nThis\\n \\ncreates\\n \\na\\n \\nbottleneck\\n \\nin\\n \\ncommunication\\n \\nand\\n \\ncan\\n \\nnegatively\\n \\nimpact\\n \\nstudent\\n \\nsuccess\\n \\nand\\n \\nengagement.\\n \\nProposed  Solution  \\nOur  solution  is  to  build  an  AI-powered  assistant  that  acts  as  a  virtual  teaching  assistant  \\nwithin\\n \\nthe\\n \\nLMS.\\n \\nThis\\n \\nassistant\\n \\nwill\\n \\nbe\\n \\ntrained\\n \\non\\n \\nspecific\\n \\nlecture\\n \\ncontent,\\n \\nincluding\\n \\nvideos,\\n \\nreadings,\\n \\nand\\n \\nslides.\\n \\nUsing\\n \\nnatural\\n \\nlanguage\\n \\nprocessing,\\n \\nit\\n \\nwill\\n \\nbe\\n \\nable\\n \\nto:\\n ●  Answer  Student  Questions:  Instantly  respond  to  student  queries  related  to  lecture  \\nmaterial,\\n \\nsuch\\n \\nas\\n \\ndefinitions,\\n \\nconcepts,\\n \\nor\\n \\nexamples.\\n ●  Summarize  Lectures:  Generate  concise  summaries  of  lectures,  helping  students  quickly  \\nreview\\n \\nkey\\n \\npoints\\n \\nand\\n \\nprepare\\n \\nfor\\n \\nexams.\\n ●  Create  Structured  Notes:  Automatically  organize  lecture  content  into  \"lecture  articles\"  \\nsimilar\\n \\nto\\n \\npopular\\n \\nonline\\n \\nlearning\\n \\nplatforms,\\n \\nmaking\\n \\nit\\n \\neasier\\n \\nfor\\n \\nstudents\\n \\nto\\n \\nrevisit\\n \\nand\\n \\nstudy.\\n ●  Support  Faculty:  Handle  the  bulk  of  common  student  inquiries,  allowing  instructors  to  \\nfocus\\n \\non\\n \\ncomplex\\n \\nquestions,\\n \\ndiscussion,\\n \\nand\\n \\ncurriculum\\n \\ndevelopment.\\n \\nMy  Role  and  Methodology  \\nMy  role  in  this  project  is  to  be  the  lead  developer,  working  under  the  guidance  of  Professor  \\nZahra\\n \\nDerakhshandeh\\n \\nand\\n \\nProfessor\\n \\nBabak\\n \\nEsmaeili.'),\n",
       " Document(metadata={'producer': 'Skia/PDF m141 Google Docs Renderer', 'creator': 'PyPDF', 'creationdate': '', 'title': 'make a google doc of this', 'source': '/Users/navdeepsingh/LLMOpsTut/DocAnalyzerforAskMeBot/notebook/data/LMS_Agent.pdf', 'total_pages': 2, 'page': 1, 'page_label': '2'}, page_content=\"Here's  a  step-by-step  breakdown  of  my  approach:  1.  Phase  1:  Research  and  Planning:  We  will  begin  by  researching  and  selecting  the  most  \\nsuitable\\n \\nAI\\n \\nmodels\\n \\nfor\\n \\ntext\\n \\nanalysis\\n \\nand\\n \\nconversational\\n \\nagents.\\n \\nWe\\n \\nwill\\n \\nalso\\n \\nplan\\n \\nthe\\n \\nsystem\\n \\narchitecture\\n \\nand\\n \\nhow\\n \\nthe\\n \\ntool\\n \\nwill\\n \\nintegrate\\n \\nwith\\n \\nan\\n \\nLMS.\\n 2.  Phase  2:  Data  Collection  and  Processing:  We  will  collect  and  process  sample  data  \\nfrom\\n \\nexisting\\n \\nlecture\\n \\nmaterials\\n \\n(e.g.,\\n \\ntranscripts,\\n \\nslides,\\n \\nand\\n \\nnotes)\\n \\nto\\n \\ntrain\\n \\nthe\\n \\nAI\\n \\nmodel.\\n \\nWe\\n \\nwill\\n \\nanonymize\\n \\nthis\\n \\ndata\\n \\nto\\n \\nensure\\n \\nprivacy.\\n 3.  Phase  3:  Development  and  Integration:  I  will  develop  the  core  AI  logic  to  answer  \\nquestions,\\n \\nsummarize\\n \\ncontent,\\n \\nand\\n \\ngenerate\\n \\nnotes.\\n \\nI\\n \\nwill\\n \\nalso\\n \\nbuild\\n \\nthe\\n \\nuser-friendly\\n \\ninterface\\n \\nthat\\n \\nwill\\n \\nappear\\n \\nwithin\\n \\nthe\\n \\nLMS.\\n 4.  Phase  4:  Testing  and  Refinement:  We  will  thoroughly  test  the  assistant  with  a  small  \\ngroup\\n \\nof\\n \\nstudents\\n \\nand\\n \\nfaculty.\\n \\nWe'll\\n \\ncollect\\n \\ntheir\\n \\nfeedback\\n \\nto\\n \\nrefine\\n \\nthe\\n \\nassistant's\\n \\naccuracy\\n \\nand\\n \\nusability.\\n 5.  Phase  5:  Final  Documentation  and  Presentation:  I  will  document  the  project's  \\ndevelopment\\n \\nprocess,\\n \\nfindings,\\n \\nand\\n \\nresults,\\n \\nwhich\\n \\nwe\\n \\nwill\\n \\nthen\\n \\npresent\\n \\nto\\n \\nthe\\n \\ncampus\\n \\ncommunity\\n \\nand\\n \\nthe\\n \\nOSCAR\\n \\ncommittee.\\n \\nExpected  Outcomes  and  Impact  \\nSuccessfully  developing  this  LMS-AI  assistant  will  have  a  significant  positive  impact  on  the  \\nCSUEB\\n \\ncommunity.\\n \\nWe\\n \\nexpect\\n \\nto\\n \\nsee:\\n ●  Improved  Student  Success:  Students  will  have  immediate  access  to  help,  leading  to  a  \\nbetter\\n \\nunderstanding\\n \\nof\\n \\nthe\\n \\nmaterial\\n \\nand\\n \\nhigher\\n \\nacademic\\n \\nperformance.\\n ●  Enhanced  Faculty  Productivity:  Instructors  will  save  time  by  automating  repetitive  \\ntasks,\\n \\nallowing\\n \\nthem\\n \\nto\\n \\nfocus\\n \\non\\n \\nteaching,\\n \\nresearch,\\n \\nand\\n \\nmentoring.\\n ●  Innovation  in  Education:  This  project  will  showcase  Cal  State  East  Bay's  commitment  to  \\nleveraging\\n \\ntechnology\\n \\nto\\n \\ncreate\\n \\na\\n \\nmore\\n \\nefficient\\n \\nand\\n \\neffective\\n \\nlearning\\n \\nenvironment.\\n This  project  is  an  excellent  opportunity  for  me  to  apply  my  computer  science  skills  to  solve  a  \\nreal-world\\n \\nproblem\\n \\nwithin\\n \\nour\\n \\nuniversity\\n \\nand\\n \\ncontribute\\n \\nto\\n \\nthe\\n \\nacademic\\n \\ncommunity.\")]"
      ]
     },
     "execution_count": 42,
     "metadata": {},
     "output_type": "execute_result"
    }
   ],
   "source": [
    "documents"
   ]
  },
  {
   "cell_type": "code",
   "execution_count": null,
   "id": "31e704ed",
   "metadata": {},
   "outputs": [],
   "source": []
  }
 ],
 "metadata": {
  "kernelspec": {
   "display_name": "venv",
   "language": "python",
   "name": "python3"
  },
  "language_info": {
   "codemirror_mode": {
    "name": "ipython",
    "version": 3
   },
   "file_extension": ".py",
   "mimetype": "text/x-python",
   "name": "python",
   "nbconvert_exporter": "python",
   "pygments_lexer": "ipython3",
   "version": "3.13.5"
  }
 },
 "nbformat": 4,
 "nbformat_minor": 5
}
